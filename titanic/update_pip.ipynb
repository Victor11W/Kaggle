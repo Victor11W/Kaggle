{
 "cells": [
  {
   "cell_type": "code",
   "execution_count": 88,
   "id": "11243083",
   "metadata": {},
   "outputs": [],
   "source": [
    "import numpy as np\n",
    "import pandas as pd\n",
    "from torch.utils.data import DataLoader, TensorDataset\n",
    "import matplotlib.pyplot as plt\n",
    "import torch\n",
    "import torch.nn as nn\n",
    "import torch.nn.functional as F\n",
    "import re\n",
    "from ydata_profiling import ProfileReport\n",
    "from usefull_fct import FeatureBuilder\n",
    "from sklearn.ensemble import GradientBoostingClassifier\n",
    "from sklearn.model_selection import StratifiedKFold, cross_val_score\n",
    "from sklearn.pipeline import Pipeline\n",
    "\n",
    "from sklearn.pipeline import Pipeline\n",
    "from sklearn.compose import ColumnTransformer\n",
    "from sklearn.preprocessing import OneHotEncoder\n",
    "from sklearn.ensemble import GradientBoostingClassifier\n",
    "from sklearn.ensemble import RandomForestClassifier\n",
    "from sklearn.linear_model import LogisticRegression\n",
    "from sklearn.ensemble import VotingClassifier\n",
    "\n",
    "\n",
    "train = pd.read_csv('train.csv')\n",
    "test = pd.read_csv('test.csv')\n",
    "gender_submission = pd.read_csv('gender_submission.csv')\n"
   ]
  },
  {
   "cell_type": "code",
   "execution_count": 89,
   "id": "469505a3",
   "metadata": {},
   "outputs": [],
   "source": [
    "num_cols = [\"Age\", \"Farelog\", \"FamilySize\", \"isAlone\"]\n",
    "cat_cols = [\"Sex\", \"Embarked\", \"Pclass\"]\n",
    "\n",
    "preprocessor = ColumnTransformer(\n",
    "    transformers=[\n",
    "        # One-hot categorical features\n",
    "        (\"cat\", OneHotEncoder(handle_unknown=\"ignore\"), cat_cols),\n",
    "        # Pass-through numerical features\n",
    "        (\"num\", \"passthrough\", num_cols),\n",
    "    ],\n",
    "    remainder=\"drop\"  # drop unused raw columns like Name, Ticket, Cabin, etc.\n",
    ")"
   ]
  },
  {
   "cell_type": "code",
   "execution_count": null,
   "id": "3cf28bfa",
   "metadata": {},
   "outputs": [],
   "source": [
    "\n",
    "gb = GradientBoostingClassifier(\n",
    "    n_estimators=300,\n",
    "    learning_rate=0.05,\n",
    "    max_depth=3,\n",
    "    subsample=0.9,\n",
    "    random_state=42\n",
    ")\n",
    "\n",
    "rf = RandomForestClassifier(\n",
    "    class_weight=\"balanced\",\n",
    "    n_estimators=300,\n",
    "    max_depth=6,\n",
    "    random_state=42\n",
    ")\n",
    "\n",
    "lr = LogisticRegression(max_iter=2000, random_state=42)\n",
    "\n",
    "ensemble = VotingClassifier(\n",
    "    estimators=[('gb', gb), ('rf', rf), ('lr', lr)],\n",
    "    voting='soft'\n",
    ")\n",
    "\n",
    "clf2 = Pipeline(steps=[\n",
    "    (\"build\", FeatureBuilder()),   # custom feature engineering\n",
    "    (\"prep\", preprocessor),        # encode + scale\n",
    "    (\"model\", ensemble)            # ensemble as final estimator\n",
    "])\n",
    "\n",
    "clf = Pipeline(steps=[\n",
    "    (\"build\", FeatureBuilder()),   # builds features (Age impute by group, etc.)\n",
    "    (\"prep\", preprocessor),        # encodes categoricals and passes nums\n",
    "    (\"model\", gb)                  # classifier\n",
    "])"
   ]
  },
  {
   "cell_type": "code",
   "execution_count": 91,
   "id": "5f23126e",
   "metadata": {},
   "outputs": [
    {
     "name": "stdout",
     "output_type": "stream",
     "text": [
      "CV mean accuracy: 0.8361423220973782 +/- 0.014341439699285231\n"
     ]
    }
   ],
   "source": [
    "# Split features/target directly from RAW train DataFrame\n",
    "y = train[\"Survived\"].astype(int)\n",
    "X_raw = train.drop(columns=[\"Survived\"])\n",
    "\n",
    "cv = StratifiedKFold(n_splits=10, shuffle=True, random_state=42)\n",
    "scores = cross_val_score(clf, X_raw, y, cv=cv, scoring=\"accuracy\")\n",
    "print(\"CV mean accuracy:\", scores.mean(), \"+/-\", scores.std())\n"
   ]
  },
  {
   "cell_type": "code",
   "execution_count": 92,
   "id": "c51482d6",
   "metadata": {},
   "outputs": [
    {
     "name": "stdout",
     "output_type": "stream",
     "text": [
      "submission_pipeline.csv created\n"
     ]
    }
   ],
   "source": [
    "# Fit on full training data\n",
    "clf.fit(X_raw, y)\n",
    "\n",
    "# Predict on RAW test DataFrame (Pipeline will build features + encode)\n",
    "X_test_raw = test.copy()\n",
    "pred = clf.predict(X_test_raw)\n",
    "\n",
    "# Build submission\n",
    "submission = pd.DataFrame({\n",
    "    \"PassengerId\": test[\"PassengerId\"],\n",
    "    \"Survived\": pred\n",
    "})\n",
    "\n",
    "submission.to_csv(\"submission_pipeline.csv\", index=False)\n",
    "print(\"submission_pipeline.csv created\")"
   ]
  },
  {
   "cell_type": "code",
   "execution_count": 93,
   "id": "a30cf5e9",
   "metadata": {},
   "outputs": [
    {
     "name": "stdout",
     "output_type": "stream",
     "text": [
      "CV mean accuracy: 0.8282521847690386 +/- 0.027701408576904177\n",
      "CV mean balanced accuracy: 0.8163207707325355 +/- 0.02030263222306436\n",
      "submission_voting.csv created\n"
     ]
    }
   ],
   "source": [
    "# --- Cross-validation ---\n",
    "cv = StratifiedKFold(n_splits=10, shuffle=True, random_state=42)\n",
    "scores = cross_val_score(clf2, train, y, cv=cv, scoring=\"accuracy\")\n",
    "scores2 = cross_val_score(clf, train, y, cv=cv, scoring=\"balanced_accuracy\")\n",
    "print(\"CV mean accuracy:\", scores.mean(), \"+/-\", scores.std())\n",
    "print(\"CV mean balanced accuracy:\", scores2.mean(), \"+/-\", scores2.std())\n",
    "\n",
    "# --- Train final model ---\n",
    "clf2.fit(train, y)\n",
    "\n",
    "# --- Predict on test ---\n",
    "predicted_classes = clf2.predict(X_test_raw)\n",
    "\n",
    "# --- Create submission ---\n",
    "submission = pd.DataFrame({\n",
    "    \"PassengerId\": test[\"PassengerId\"],\n",
    "    \"Survived\": predicted_classes\n",
    "})\n",
    "submission.to_csv(\"submission_voting.csv\", index=False)\n",
    "print(\"submission_voting.csv created\")"
   ]
  }
 ],
 "metadata": {
  "kernelspec": {
   "display_name": ".venv",
   "language": "python",
   "name": "python3"
  },
  "language_info": {
   "codemirror_mode": {
    "name": "ipython",
    "version": 3
   },
   "file_extension": ".py",
   "mimetype": "text/x-python",
   "name": "python",
   "nbconvert_exporter": "python",
   "pygments_lexer": "ipython3",
   "version": "3.12.5"
  }
 },
 "nbformat": 4,
 "nbformat_minor": 5
}
