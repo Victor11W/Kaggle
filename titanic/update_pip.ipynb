{
 "cells": [
  {
   "cell_type": "code",
   "execution_count": 40,
   "id": "11243083",
   "metadata": {},
   "outputs": [],
   "source": [
    "import numpy as np\n",
    "import pandas as pd\n",
    "from torch.utils.data import DataLoader, TensorDataset\n",
    "import matplotlib.pyplot as plt\n",
    "import torch\n",
    "import torch.nn as nn\n",
    "import torch.nn.functional as F\n",
    "import re\n",
    "from ydata_profiling import ProfileReport\n",
    "from usefull_fct import FeatureBuilder\n",
    "from sklearn.ensemble import GradientBoostingClassifier\n",
    "from sklearn.model_selection import StratifiedKFold, cross_val_score\n",
    "from sklearn.pipeline import Pipeline\n",
    "from sklearn.preprocessing import StandardScaler\n",
    "from sklearn.impute import SimpleImputer\n",
    "\n",
    "from sklearn.pipeline import Pipeline\n",
    "from sklearn.compose import ColumnTransformer\n",
    "from sklearn.preprocessing import OneHotEncoder, FunctionTransformer\n",
    "from sklearn.impute import SimpleImputer\n",
    "from sklearn.ensemble import GradientBoostingClassifier\n",
    "\n",
    "\n",
    "train = pd.read_csv('train.csv')\n",
    "test = pd.read_csv('test.csv')\n",
    "gender_submission = pd.read_csv('gender_submission.csv')\n"
   ]
  },
  {
   "cell_type": "code",
   "execution_count": 41,
   "id": "469505a3",
   "metadata": {},
   "outputs": [],
   "source": [
    "num_cols = [\"Age\", \"Farelog\", \"FamilySize\", \"isAlone\"]\n",
    "cat_cols = [\"Sex\", \"Embarked\", \"Pclass\", \"Title\",\"AgeBin\"]\n",
    "\n",
    "preprocessor = ColumnTransformer(\n",
    "    transformers=[\n",
    "        # One-hot categorical features\n",
    "        (\"cat\", OneHotEncoder(handle_unknown=\"ignore\"), cat_cols),\n",
    "        # Pass-through numerical features\n",
    "        (\"num\", \"passthrough\", num_cols),\n",
    "    ],\n",
    "    remainder=\"drop\"  # drop unused raw columns like Name, Ticket, Cabin, etc.\n",
    ")"
   ]
  },
  {
   "cell_type": "code",
   "execution_count": 42,
   "id": "3cf28bfa",
   "metadata": {},
   "outputs": [],
   "source": [
    "gb = GradientBoostingClassifier(\n",
    "    n_estimators=500,\n",
    "    learning_rate=0.02,\n",
    "    max_depth=3,\n",
    "    subsample=0.8,\n",
    "    random_state=42\n",
    ")\n",
    "\n",
    "clf = Pipeline(steps=[\n",
    "    (\"build\", FeatureBuilder()),   # builds features (Age impute by group, etc.)\n",
    "    (\"prep\", preprocessor),        # encodes categoricals and passes nums\n",
    "    (\"model\", gb)                  # classifier\n",
    "])"
   ]
  },
  {
   "cell_type": "code",
   "execution_count": 43,
   "id": "5f23126e",
   "metadata": {},
   "outputs": [
    {
     "name": "stdout",
     "output_type": "stream",
     "text": [
      "CV mean accuracy: 0.8350062421972535 +/- 0.016024361092099523\n"
     ]
    }
   ],
   "source": [
    "# Split features/target directly from RAW train DataFrame\n",
    "y = train[\"Survived\"].astype(int)\n",
    "X_raw = train.drop(columns=[\"Survived\"])\n",
    "\n",
    "cv = StratifiedKFold(n_splits=10, shuffle=True, random_state=42)\n",
    "scores = cross_val_score(clf, X_raw, y, cv=cv, scoring=\"accuracy\")\n",
    "print(\"CV mean accuracy:\", scores.mean(), \"+/-\", scores.std())\n"
   ]
  },
  {
   "cell_type": "code",
   "execution_count": 44,
   "id": "c51482d6",
   "metadata": {},
   "outputs": [
    {
     "name": "stdout",
     "output_type": "stream",
     "text": [
      "submission_pipeline.csv created\n"
     ]
    }
   ],
   "source": [
    "# Fit on full training data\n",
    "clf.fit(X_raw, y)\n",
    "\n",
    "# Predict on RAW test DataFrame (Pipeline will build features + encode)\n",
    "X_test_raw = test.copy()\n",
    "pred = clf.predict(X_test_raw)\n",
    "\n",
    "# Build submission\n",
    "submission = pd.DataFrame({\n",
    "    \"PassengerId\": test[\"PassengerId\"],\n",
    "    \"Survived\": pred\n",
    "})\n",
    "submission.to_csv(\"submission_pipeline.csv\", index=False)\n",
    "print(\"submission_pipeline.csv created\")"
   ]
  }
 ],
 "metadata": {
  "kernelspec": {
   "display_name": ".venv",
   "language": "python",
   "name": "python3"
  },
  "language_info": {
   "codemirror_mode": {
    "name": "ipython",
    "version": 3
   },
   "file_extension": ".py",
   "mimetype": "text/x-python",
   "name": "python",
   "nbconvert_exporter": "python",
   "pygments_lexer": "ipython3",
   "version": "3.12.5"
  }
 },
 "nbformat": 4,
 "nbformat_minor": 5
}
